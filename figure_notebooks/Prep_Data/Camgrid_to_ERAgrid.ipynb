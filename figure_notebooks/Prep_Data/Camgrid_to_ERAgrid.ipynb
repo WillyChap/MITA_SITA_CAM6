{
 "cells": [
  {
   "cell_type": "code",
   "execution_count": 1,
   "id": "c952dc25-500b-4c02-82fc-6a8182f0fe61",
   "metadata": {},
   "outputs": [],
   "source": [
    "import xarray as xr\n",
    "import xesmf as xe\n",
    "import numpy as np\n",
    "import glob\n",
    "import os"
   ]
  },
  {
   "cell_type": "code",
   "execution_count": 20,
   "id": "c5d29b7a-bd21-4190-9f17-a1d992f2f929",
   "metadata": {},
   "outputs": [
    {
     "name": "stdout",
     "output_type": "stream",
     "text": [
      "regridding\n"
     ]
    }
   ],
   "source": [
    "path_to_file = '/glade/scratch/wchapman/ADF/f.e21.DAcompset.f09_d025_Seasonal_stochai_UV_05_1982_MJO_v3/ts/f.e21.DAcompset.f09_d025_Seasonal_stochai_UV_05_1982_MJO_v3.h1.Z500.198201-201012.nc'\n",
    "path_to_file_out = '/glade/scratch/wchapman/ADF/f.e21.DAcompset.f09_d025_Seasonal_stochai_UV_05_1982_MJO_v3/ts/f.e21.DAcompset.f09_d025_Seasonal_stochai_UV_05_1982_MJO_v3.h1.Z500.ERAgrid.198201-201012.nc'\n",
    "\n",
    "DS_camgrid = xr.open_dataset(path_to_file)\n",
    "\n",
    "path_to_ERAgrid = '/glade/scratch/wchapman/ADF/f.e21.DAcompset.f09_d025_Seasonal_stochai_UV_05_1982_MJO_v3/ts/f.e21.DAcompset.f09_d025_Seasonal_stochai_UV_05_1982_MJO_v3.h1.UV500.ERAgrid.198201-201012.nc'\n",
    "DS_eragrid = xr.open_dataset(path_to_ERAgrid)\n",
    "\n",
    "\n",
    "#set lat/lon to regrid to: \n",
    "latera = DS_eragrid.lat\n",
    "lonera = DS_eragrid.lon\n",
    "\n",
    "#make regridder structure:\n",
    "ds_out = xr.Dataset(\n",
    "    {\n",
    "        \"lat\": ([\"lat\"], np.array(DS_eragrid.lat)),\n",
    "        \"lon\": ([\"lon\"], np.array(DS_eragrid.lon)),\n",
    "    }\n",
    ")\n",
    "print('regridding')\n",
    "regridder = xe.Regridder(DS_camgrid, ds_out, \"bilinear\")\n",
    "ds_out_era = regridder(DS_camgrid) #this is an xarray instance now.\n",
    "print('saving')\n",
    "ds_out_era.to_netcdf(path_to_file_out)"
   ]
  },
  {
   "cell_type": "code",
   "execution_count": null,
   "id": "8f7ee4dc-c21f-4534-937a-752d205a7a0e",
   "metadata": {},
   "outputs": [],
   "source": []
  }
 ],
 "metadata": {
  "kernelspec": {
   "display_name": "NPL 2023a",
   "language": "python",
   "name": "npl-2023a"
  },
  "language_info": {
   "codemirror_mode": {
    "name": "ipython",
    "version": 3
   },
   "file_extension": ".py",
   "mimetype": "text/x-python",
   "name": "python",
   "nbconvert_exporter": "python",
   "pygments_lexer": "ipython3",
   "version": "3.9.16"
  }
 },
 "nbformat": 4,
 "nbformat_minor": 5
}
